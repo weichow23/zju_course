{
 "metadata": {
  "language_info": {
   "name": "python",
   "version": "3.7.6",
   "mimetype": "text/x-python",
   "codemirror_mode": {
    "name": "ipython",
    "version": 3
   },
   "pygments_lexer": "ipython3",
   "nbconvert_exporter": "python",
   "file_extension": ".py"
  },
  "kernelspec": {
   "name": "python3",
   "language": "python",
   "display_name": "Python 3 (ipykernel)"
  }
 },
 "nbformat_minor": 5,
 "nbformat": 4,
 "cells": [
  {
   "cell_type": "markdown",
   "source": [
    "# Word Embedding"
   ],
   "metadata": {}
  },
  {
   "cell_type": "markdown",
   "source": [
    "### 1. 安装gensim库"
   ],
   "metadata": {}
  },
  {
   "cell_type": "code",
   "source": [
    "! pip install gensim -i https://pypi.tuna.tsinghua.edu.cn/simple"
   ],
   "metadata": {
    "trusted": true,
    "ExecuteTime": {
     "end_time": "2024-03-18T05:36:57.720395400Z",
     "start_time": "2024-03-18T05:36:37.249469500Z"
    }
   },
   "execution_count": 1,
   "outputs": [
    {
     "name": "stdout",
     "output_type": "stream",
     "text": [
      "Defaulting to user installation because normal site-packages is not writeable\r\n",
      "Looking in indexes: https://pypi.tuna.tsinghua.edu.cn/simple\r\n",
      "Collecting gensim\r\n",
      "  Downloading https://pypi.tuna.tsinghua.edu.cn/packages/e8/d9/104988573fd2c1acdc64e66883b35fb8ae559310d2d9f77db78bf7de9add/gensim-4.3.2-cp310-cp310-manylinux_2_17_x86_64.manylinux2014_x86_64.whl (26.5 MB)\r\n",
      "\u001B[2K     \u001B[90m━━━━━━━━━━━━━━━━━━━━━━━━━━━━━━━━━━━━━━━━\u001B[0m \u001B[32m26.5/26.5 MB\u001B[0m \u001B[31m6.5 MB/s\u001B[0m eta \u001B[36m0:00:00\u001B[0m00:01\u001B[0m00:01\u001B[0mm\r\n",
      "\u001B[?25hRequirement already satisfied: numpy>=1.18.5 in /home1/zhouwei/.local/lib/python3.10/site-packages (from gensim) (1.26.4)\r\n",
      "Collecting scipy>=1.7.0\r\n",
      "  Downloading https://pypi.tuna.tsinghua.edu.cn/packages/f5/aa/8e6071a5e4dca4ec68b5b22e4991ee74c59c5d372112b9c236ec1faff57d/scipy-1.12.0-cp310-cp310-manylinux_2_17_x86_64.manylinux2014_x86_64.whl (38.4 MB)\r\n",
      "\u001B[2K     \u001B[90m━━━━━━━━━━━━━━━━━━━━━━━━━━━━━━━━━━━━━━━━\u001B[0m \u001B[32m38.4/38.4 MB\u001B[0m \u001B[31m4.9 MB/s\u001B[0m eta \u001B[36m0:00:00\u001B[0m00:01\u001B[0m00:01\u001B[0m\r\n",
      "\u001B[?25hCollecting smart-open>=1.8.1\r\n",
      "  Downloading https://pypi.tuna.tsinghua.edu.cn/packages/ad/08/dcd19850b79f72e3717c98b2088f8a24b549b29ce66849cd6b7f44679683/smart_open-7.0.1-py3-none-any.whl (60 kB)\r\n",
      "\u001B[2K     \u001B[90m━━━━━━━━━━━━━━━━━━━━━━━━━━━━━━━━━━━━━━━\u001B[0m \u001B[32m60.8/60.8 KB\u001B[0m \u001B[31m181.2 kB/s\u001B[0m eta \u001B[36m0:00:00\u001B[0m:--:--\u001B[0m\r\n",
      "\u001B[?25hCollecting wrapt\r\n",
      "  Downloading https://pypi.tuna.tsinghua.edu.cn/packages/49/83/b40bc1ad04a868b5b5bcec86349f06c1ee1ea7afe51dc3e46131e4f39308/wrapt-1.16.0-cp310-cp310-manylinux_2_5_x86_64.manylinux1_x86_64.manylinux_2_17_x86_64.manylinux2014_x86_64.whl (80 kB)\r\n",
      "\u001B[2K     \u001B[90m━━━━━━━━━━━━━━━━━━━━━━━━━━━━━━━━━━━━━━━━\u001B[0m \u001B[32m80.3/80.3 KB\u001B[0m \u001B[31m5.2 MB/s\u001B[0m eta \u001B[36m0:00:00\u001B[0m\r\n",
      "\u001B[?25hInstalling collected packages: wrapt, scipy, smart-open, gensim\r\n",
      "Successfully installed gensim-4.3.2 scipy-1.12.0 smart-open-7.0.1 wrapt-1.16.0\r\n"
     ]
    }
   ]
  },
  {
   "cell_type": "markdown",
   "source": [
    "### ~~2. 同步数据至本地~~ （我不需要这一步）"
   ],
   "metadata": {}
  },
  {
   "cell_type": "markdown",
   "source": [
    "### 3. 导入依赖库"
   ],
   "metadata": {}
  },
  {
   "cell_type": "code",
   "source": [
    "from multiprocessing import cpu_count\n",
    "from gensim.models import Word2Vec\n",
    "from gensim.models import KeyedVectors"
   ],
   "metadata": {
    "trusted": true,
    "ExecuteTime": {
     "end_time": "2024-03-18T05:41:58.716063600Z",
     "start_time": "2024-03-18T05:41:58.147250500Z"
    }
   },
   "execution_count": 1,
   "outputs": []
  },
  {
   "cell_type": "markdown",
   "source": [
    "### 4. 定义输入、输出文件路径"
   ],
   "metadata": {}
  },
  {
   "cell_type": "code",
   "source": [
    "corpus_file = \"corpus.txt\"\n",
    "out_embedding_file = \"embedding.txt\""
   ],
   "metadata": {
    "trusted": true,
    "ExecuteTime": {
     "end_time": "2024-03-18T05:42:03.150363700Z",
     "start_time": "2024-03-18T05:42:03.097266100Z"
    }
   },
   "execution_count": 2,
   "outputs": []
  },
  {
   "cell_type": "markdown",
   "source": [
    "### 5. 查看函数文档"
   ],
   "metadata": {}
  },
  {
   "cell_type": "code",
   "source": [
    "?Word2Vec"
   ],
   "metadata": {
    "trusted": true,
    "ExecuteTime": {
     "end_time": "2024-03-18T05:42:04.900853Z",
     "start_time": "2024-03-18T05:42:04.844880600Z"
    }
   },
   "execution_count": 3,
   "outputs": []
  },
  {
   "cell_type": "markdown",
   "source": [
    "### 6. 词向量训练并保存"
   ],
   "metadata": {}
  },
  {
   "cell_type": "code",
   "source": [
    "model = Word2Vec(corpus_file=corpus_file, vector_size=100, window=5, min_count=5, workers=cpu_count(), sg=1)\n",
    "model.wv.save_word2vec_format(out_embedding_file, binary=False)"
   ],
   "metadata": {
    "scrolled": true,
    "ExecuteTime": {
     "end_time": "2024-03-18T05:45:30.542115500Z",
     "start_time": "2024-03-18T05:45:01.293485400Z"
    }
   },
   "execution_count": 4,
   "outputs": []
  },
  {
   "cell_type": "code",
   "source": [
    "!ls"
   ],
   "metadata": {
    "ExecuteTime": {
     "end_time": "2024-03-18T05:45:49.016179200Z",
     "start_time": "2024-03-18T05:45:48.880189700Z"
    }
   },
   "execution_count": 5,
   "outputs": [
    {
     "name": "stdout",
     "output_type": "stream",
     "text": [
      "corpus.txt  embedding.txt  word2vec.ipynb\r\n"
     ]
    }
   ]
  },
  {
   "cell_type": "markdown",
   "source": [
    "### 7. 加载离线词向量"
   ],
   "metadata": {}
  },
  {
   "source": [
    "word2vec_model = KeyedVectors.load_word2vec_format(\"embedding.txt\")"
   ],
   "cell_type": "code",
   "metadata": {
    "ExecuteTime": {
     "end_time": "2024-03-18T05:47:44.901174200Z",
     "start_time": "2024-03-18T05:47:38.205305800Z"
    }
   },
   "execution_count": 6,
   "outputs": []
  },
  {
   "cell_type": "markdown",
   "source": [
    "获取单个词的词向量"
   ],
   "metadata": {}
  },
  {
   "cell_type": "code",
   "source": [
    "print(word2vec_model['中国'])\n",
    "print(f\"type: {type(word2vec_model['中国'])}, shape: {word2vec_model['中国'].shape}\")"
   ],
   "metadata": {
    "ExecuteTime": {
     "end_time": "2024-03-18T05:53:42.260730200Z",
     "start_time": "2024-03-18T05:53:42.216154100Z"
    }
   },
   "execution_count": 11,
   "outputs": [
    {
     "name": "stdout",
     "output_type": "stream",
     "text": [
      "[-0.06858468  0.4158454   0.14482535 -0.16020392 -0.2247435  -0.47976425\n",
      "  0.4509637   0.38268045  0.09899696 -0.10825314  0.28559092 -0.62915266\n",
      "  0.18634804  0.17661096 -0.24424034 -0.12834175  0.20306145 -0.3829213\n",
      " -0.10354912 -0.48803475  0.23742074  0.59730834  0.16738474 -0.18608943\n",
      " -0.44910556 -0.22399697 -0.39393634  0.09446891  0.10072092 -0.3064694\n",
      "  0.1937776  -0.3995278  -0.02179598 -0.1707467  -1.1079797   0.37673473\n",
      "  0.35441223 -0.00547807 -0.53901166  0.35092255  0.8429384  -0.56026995\n",
      " -0.24055113  0.19424538 -0.2729169   0.12811527  0.27025583 -0.03633509\n",
      "  0.03894229 -0.2939042   0.26724052  0.39290994  0.6882427  -0.32208243\n",
      "  0.5002292  -0.11412837  0.13603632  0.09726391 -0.15937762 -0.33600977\n",
      " -0.3445764  -0.2523667  -0.20732054  0.17774317 -0.37527516  0.2956936\n",
      " -0.23056212  0.4025984  -0.26352835 -0.0429624  -0.4698214  -0.4814904\n",
      "  0.28909975 -0.17906684  0.47226048 -0.19881696  0.8511349   0.3752441\n",
      "  0.08579735  0.061205    0.08691915  0.37412268  0.07788353  0.31716305\n",
      "  0.41773328 -0.28833187  0.50010735 -0.32166886 -0.14627747  0.1862165\n",
      "  0.19569485  0.07621322 -0.24804324 -0.02136523  0.06309099 -0.82358235\n",
      " -0.19140506 -0.13533098  0.02365843 -0.41437617]\n",
      "type: <class 'numpy.ndarray'>, shape: (100,)\n"
     ]
    }
   ]
  },
  {
   "cell_type": "markdown",
   "source": [
    "### 8. 相似度测试"
   ],
   "metadata": {}
  },
  {
   "cell_type": "code",
   "source": [
    "testwords = ['金融', '喜欢', \"中国\", \"北京\"]\n",
    "for word in testwords:\n",
    "    res = word2vec_model.most_similar(word)\n",
    "    print (word)\n",
    "    print (res)"
   ],
   "metadata": {
    "ExecuteTime": {
     "end_time": "2024-03-18T05:54:45.659194600Z",
     "start_time": "2024-03-18T05:54:45.632865600Z"
    }
   },
   "execution_count": 12,
   "outputs": [
    {
     "name": "stdout",
     "output_type": "stream",
     "text": [
      "金融\n",
      "[('证券期货', 0.7891601920127869), ('金融服务', 0.7764107584953308), ('金融市场', 0.7728212475776672), ('信贷', 0.756850004196167), ('财务会计', 0.756525993347168), ('国内贸易', 0.7549294829368591), ('政策性', 0.7545969486236572), ('股份制', 0.7540029287338257), ('银行学', 0.7538891434669495), ('财政金融', 0.7522411942481995)]\n",
      "喜欢\n",
      "[('讨厌', 0.7777257561683655), ('不怎么', 0.7275071144104004), ('吃喝', 0.722435712814331), ('精力充沛', 0.7120956778526306), ('喝酒', 0.709886372089386), ('过得', 0.7067760229110718), ('偏爱', 0.700767993927002), ('小猫', 0.6938155889511108), ('想念', 0.6935980319976807), ('愉快', 0.6930115818977356)]\n",
      "中国\n",
      "[('大陆', 0.6988615989685059), ('内地', 0.6545509099960327), ('北京地区', 0.6210819482803345), ('越南政府', 0.6125912070274353), ('港澳地区', 0.6122011542320251), ('不派', 0.6094585657119751), ('外国', 0.6071093082427979), ('热血传奇', 0.5977785587310791), ('中国台湾', 0.595501720905304), ('境外', 0.5928908586502075)]\n",
      "北京\n",
      "[('天津', 0.7384888529777527), ('上海', 0.7173181772232056), ('南京', 0.6721357107162476), ('西安', 0.6490997076034546), ('沈阳', 0.631308376789093), ('探亲', 0.625413715839386), ('广州', 0.624570369720459), ('京郊', 0.6225630044937134), ('大连', 0.6184787750244141), ('北京市', 0.6158920526504517)]\n"
     ]
    }
   ]
  },
  {
   "cell_type": "code",
   "execution_count": 21,
   "outputs": [
    {
     "name": "stderr",
     "output_type": "stream",
     "text": [
      "findfont: Generic family 'sans-serif' not found because none of the following families were found: Microsoft YaHei\n",
      "findfont: Generic family 'sans-serif' not found because none of the following families were found: Microsoft YaHei\n",
      "findfont: Generic family 'sans-serif' not found because none of the following families were found: Microsoft YaHei\n",
      "findfont: Generic family 'sans-serif' not found because none of the following families were found: Microsoft YaHei\n",
      "findfont: Generic family 'sans-serif' not found because none of the following families were found: Microsoft YaHei\n",
      "findfont: Generic family 'sans-serif' not found because none of the following families were found: Microsoft YaHei\n",
      "findfont: Generic family 'sans-serif' not found because none of the following families were found: Microsoft YaHei\n",
      "findfont: Generic family 'sans-serif' not found because none of the following families were found: Microsoft YaHei\n",
      "findfont: Generic family 'sans-serif' not found because none of the following families were found: Microsoft YaHei\n",
      "findfont: Generic family 'sans-serif' not found because none of the following families were found: Microsoft YaHei\n",
      "findfont: Generic family 'sans-serif' not found because none of the following families were found: Microsoft YaHei\n",
      "findfont: Generic family 'sans-serif' not found because none of the following families were found: Microsoft YaHei\n",
      "findfont: Generic family 'sans-serif' not found because none of the following families were found: Microsoft YaHei\n",
      "findfont: Generic family 'sans-serif' not found because none of the following families were found: Microsoft YaHei\n",
      "findfont: Generic family 'sans-serif' not found because none of the following families were found: Microsoft YaHei\n",
      "findfont: Generic family 'sans-serif' not found because none of the following families were found: Microsoft YaHei\n",
      "findfont: Generic family 'sans-serif' not found because none of the following families were found: Microsoft YaHei\n",
      "findfont: Generic family 'sans-serif' not found because none of the following families were found: Microsoft YaHei\n",
      "findfont: Generic family 'sans-serif' not found because none of the following families were found: Microsoft YaHei\n",
      "findfont: Generic family 'sans-serif' not found because none of the following families were found: Microsoft YaHei\n",
      "findfont: Generic family 'sans-serif' not found because none of the following families were found: Microsoft YaHei\n",
      "findfont: Generic family 'sans-serif' not found because none of the following families were found: Microsoft YaHei\n",
      "findfont: Generic family 'sans-serif' not found because none of the following families were found: Microsoft YaHei\n",
      "findfont: Generic family 'sans-serif' not found because none of the following families were found: Microsoft YaHei\n",
      "findfont: Generic family 'sans-serif' not found because none of the following families were found: Microsoft YaHei\n",
      "findfont: Generic family 'sans-serif' not found because none of the following families were found: Microsoft YaHei\n",
      "findfont: Generic family 'sans-serif' not found because none of the following families were found: Microsoft YaHei\n",
      "findfont: Generic family 'sans-serif' not found because none of the following families were found: Microsoft YaHei\n",
      "findfont: Generic family 'sans-serif' not found because none of the following families were found: Microsoft YaHei\n",
      "findfont: Generic family 'sans-serif' not found because none of the following families were found: Microsoft YaHei\n",
      "findfont: Generic family 'sans-serif' not found because none of the following families were found: Microsoft YaHei\n",
      "findfont: Generic family 'sans-serif' not found because none of the following families were found: Microsoft YaHei\n",
      "findfont: Generic family 'sans-serif' not found because none of the following families were found: Microsoft YaHei\n",
      "findfont: Generic family 'sans-serif' not found because none of the following families were found: Microsoft YaHei\n",
      "findfont: Generic family 'sans-serif' not found because none of the following families were found: Microsoft YaHei\n",
      "findfont: Generic family 'sans-serif' not found because none of the following families were found: Microsoft YaHei\n",
      "findfont: Generic family 'sans-serif' not found because none of the following families were found: Microsoft YaHei\n",
      "findfont: Generic family 'sans-serif' not found because none of the following families were found: Microsoft YaHei\n",
      "findfont: Generic family 'sans-serif' not found because none of the following families were found: Microsoft YaHei\n",
      "findfont: Generic family 'sans-serif' not found because none of the following families were found: Microsoft YaHei\n",
      "findfont: Generic family 'sans-serif' not found because none of the following families were found: Microsoft YaHei\n",
      "findfont: Generic family 'sans-serif' not found because none of the following families were found: Microsoft YaHei\n",
      "findfont: Generic family 'sans-serif' not found because none of the following families were found: Microsoft YaHei\n",
      "findfont: Generic family 'sans-serif' not found because none of the following families were found: Microsoft YaHei\n",
      "findfont: Generic family 'sans-serif' not found because none of the following families were found: Microsoft YaHei\n",
      "findfont: Generic family 'sans-serif' not found because none of the following families were found: Microsoft YaHei\n",
      "findfont: Generic family 'sans-serif' not found because none of the following families were found: Microsoft YaHei\n",
      "findfont: Generic family 'sans-serif' not found because none of the following families were found: Microsoft YaHei\n",
      "findfont: Generic family 'sans-serif' not found because none of the following families were found: Microsoft YaHei\n",
      "findfont: Generic family 'sans-serif' not found because none of the following families were found: Microsoft YaHei\n",
      "findfont: Generic family 'sans-serif' not found because none of the following families were found: Microsoft YaHei\n",
      "findfont: Generic family 'sans-serif' not found because none of the following families were found: Microsoft YaHei\n",
      "findfont: Generic family 'sans-serif' not found because none of the following families were found: Microsoft YaHei\n",
      "findfont: Generic family 'sans-serif' not found because none of the following families were found: Microsoft YaHei\n",
      "findfont: Generic family 'sans-serif' not found because none of the following families were found: Microsoft YaHei\n",
      "findfont: Generic family 'sans-serif' not found because none of the following families were found: Microsoft YaHei\n",
      "findfont: Generic family 'sans-serif' not found because none of the following families were found: Microsoft YaHei\n",
      "findfont: Generic family 'sans-serif' not found because none of the following families were found: Microsoft YaHei\n",
      "findfont: Generic family 'sans-serif' not found because none of the following families were found: Microsoft YaHei\n",
      "findfont: Generic family 'sans-serif' not found because none of the following families were found: Microsoft YaHei\n",
      "findfont: Generic family 'sans-serif' not found because none of the following families were found: Microsoft YaHei\n",
      "findfont: Generic family 'sans-serif' not found because none of the following families were found: Microsoft YaHei\n",
      "findfont: Generic family 'sans-serif' not found because none of the following families were found: Microsoft YaHei\n",
      "findfont: Generic family 'sans-serif' not found because none of the following families were found: Microsoft YaHei\n",
      "findfont: Generic family 'sans-serif' not found because none of the following families were found: Microsoft YaHei\n",
      "findfont: Generic family 'sans-serif' not found because none of the following families were found: Microsoft YaHei\n",
      "findfont: Generic family 'sans-serif' not found because none of the following families were found: Microsoft YaHei\n",
      "findfont: Generic family 'sans-serif' not found because none of the following families were found: Microsoft YaHei\n",
      "findfont: Generic family 'sans-serif' not found because none of the following families were found: Microsoft YaHei\n",
      "findfont: Generic family 'sans-serif' not found because none of the following families were found: Microsoft YaHei\n",
      "findfont: Generic family 'sans-serif' not found because none of the following families were found: Microsoft YaHei\n",
      "findfont: Generic family 'sans-serif' not found because none of the following families were found: Microsoft YaHei\n",
      "findfont: Generic family 'sans-serif' not found because none of the following families were found: Microsoft YaHei\n",
      "findfont: Generic family 'sans-serif' not found because none of the following families were found: Microsoft YaHei\n",
      "findfont: Generic family 'sans-serif' not found because none of the following families were found: Microsoft YaHei\n",
      "findfont: Generic family 'sans-serif' not found because none of the following families were found: Microsoft YaHei\n",
      "findfont: Generic family 'sans-serif' not found because none of the following families were found: Microsoft YaHei\n",
      "findfont: Generic family 'sans-serif' not found because none of the following families were found: Microsoft YaHei\n",
      "findfont: Generic family 'sans-serif' not found because none of the following families were found: Microsoft YaHei\n",
      "findfont: Generic family 'sans-serif' not found because none of the following families were found: Microsoft YaHei\n",
      "findfont: Generic family 'sans-serif' not found because none of the following families were found: Microsoft YaHei\n",
      "findfont: Generic family 'sans-serif' not found because none of the following families were found: Microsoft YaHei\n",
      "findfont: Generic family 'sans-serif' not found because none of the following families were found: Microsoft YaHei\n",
      "findfont: Generic family 'sans-serif' not found because none of the following families were found: Microsoft YaHei\n",
      "findfont: Generic family 'sans-serif' not found because none of the following families were found: Microsoft YaHei\n",
      "findfont: Generic family 'sans-serif' not found because none of the following families were found: Microsoft YaHei\n",
      "findfont: Generic family 'sans-serif' not found because none of the following families were found: Microsoft YaHei\n",
      "findfont: Generic family 'sans-serif' not found because none of the following families were found: Microsoft YaHei\n",
      "findfont: Generic family 'sans-serif' not found because none of the following families were found: Microsoft YaHei\n",
      "findfont: Generic family 'sans-serif' not found because none of the following families were found: Microsoft YaHei\n",
      "findfont: Generic family 'sans-serif' not found because none of the following families were found: Microsoft YaHei\n",
      "findfont: Generic family 'sans-serif' not found because none of the following families were found: Microsoft YaHei\n",
      "findfont: Generic family 'sans-serif' not found because none of the following families were found: Microsoft YaHei\n",
      "findfont: Generic family 'sans-serif' not found because none of the following families were found: Microsoft YaHei\n",
      "findfont: Generic family 'sans-serif' not found because none of the following families were found: Microsoft YaHei\n",
      "findfont: Generic family 'sans-serif' not found because none of the following families were found: Microsoft YaHei\n",
      "findfont: Generic family 'sans-serif' not found because none of the following families were found: Microsoft YaHei\n",
      "findfont: Generic family 'sans-serif' not found because none of the following families were found: Microsoft YaHei\n",
      "findfont: Generic family 'sans-serif' not found because none of the following families were found: Microsoft YaHei\n",
      "findfont: Generic family 'sans-serif' not found because none of the following families were found: Microsoft YaHei\n",
      "findfont: Generic family 'sans-serif' not found because none of the following families were found: Microsoft YaHei\n",
      "findfont: Generic family 'sans-serif' not found because none of the following families were found: Microsoft YaHei\n",
      "findfont: Generic family 'sans-serif' not found because none of the following families were found: Microsoft YaHei\n",
      "findfont: Generic family 'sans-serif' not found because none of the following families were found: Microsoft YaHei\n",
      "findfont: Generic family 'sans-serif' not found because none of the following families were found: Microsoft YaHei\n",
      "findfont: Generic family 'sans-serif' not found because none of the following families were found: Microsoft YaHei\n",
      "findfont: Generic family 'sans-serif' not found because none of the following families were found: Microsoft YaHei\n",
      "findfont: Generic family 'sans-serif' not found because none of the following families were found: Microsoft YaHei\n",
      "findfont: Generic family 'sans-serif' not found because none of the following families were found: Microsoft YaHei\n",
      "findfont: Generic family 'sans-serif' not found because none of the following families were found: Microsoft YaHei\n",
      "findfont: Generic family 'sans-serif' not found because none of the following families were found: Microsoft YaHei\n",
      "findfont: Generic family 'sans-serif' not found because none of the following families were found: Microsoft YaHei\n",
      "findfont: Generic family 'sans-serif' not found because none of the following families were found: Microsoft YaHei\n",
      "findfont: Generic family 'sans-serif' not found because none of the following families were found: Microsoft YaHei\n",
      "findfont: Generic family 'sans-serif' not found because none of the following families were found: Microsoft YaHei\n",
      "findfont: Generic family 'sans-serif' not found because none of the following families were found: Microsoft YaHei\n",
      "findfont: Generic family 'sans-serif' not found because none of the following families were found: Microsoft YaHei\n",
      "findfont: Generic family 'sans-serif' not found because none of the following families were found: Microsoft YaHei\n",
      "findfont: Generic family 'sans-serif' not found because none of the following families were found: Microsoft YaHei\n",
      "findfont: Generic family 'sans-serif' not found because none of the following families were found: Microsoft YaHei\n",
      "findfont: Generic family 'sans-serif' not found because none of the following families were found: Microsoft YaHei\n",
      "findfont: Generic family 'sans-serif' not found because none of the following families were found: Microsoft YaHei\n",
      "findfont: Generic family 'sans-serif' not found because none of the following families were found: Microsoft YaHei\n",
      "findfont: Generic family 'sans-serif' not found because none of the following families were found: Microsoft YaHei\n",
      "findfont: Generic family 'sans-serif' not found because none of the following families were found: Microsoft YaHei\n",
      "findfont: Generic family 'sans-serif' not found because none of the following families were found: Microsoft YaHei\n",
      "findfont: Generic family 'sans-serif' not found because none of the following families were found: Microsoft YaHei\n",
      "findfont: Generic family 'sans-serif' not found because none of the following families were found: Microsoft YaHei\n",
      "findfont: Generic family 'sans-serif' not found because none of the following families were found: Microsoft YaHei\n",
      "findfont: Generic family 'sans-serif' not found because none of the following families were found: Microsoft YaHei\n",
      "findfont: Generic family 'sans-serif' not found because none of the following families were found: Microsoft YaHei\n",
      "findfont: Generic family 'sans-serif' not found because none of the following families were found: Microsoft YaHei\n",
      "findfont: Generic family 'sans-serif' not found because none of the following families were found: Microsoft YaHei\n",
      "findfont: Generic family 'sans-serif' not found because none of the following families were found: Microsoft YaHei\n",
      "findfont: Generic family 'sans-serif' not found because none of the following families were found: Microsoft YaHei\n",
      "findfont: Generic family 'sans-serif' not found because none of the following families were found: Microsoft YaHei\n",
      "findfont: Generic family 'sans-serif' not found because none of the following families were found: Microsoft YaHei\n",
      "findfont: Generic family 'sans-serif' not found because none of the following families were found: Microsoft YaHei\n",
      "findfont: Generic family 'sans-serif' not found because none of the following families were found: Microsoft YaHei\n",
      "findfont: Generic family 'sans-serif' not found because none of the following families were found: Microsoft YaHei\n",
      "findfont: Generic family 'sans-serif' not found because none of the following families were found: Microsoft YaHei\n",
      "findfont: Generic family 'sans-serif' not found because none of the following families were found: Microsoft YaHei\n",
      "findfont: Generic family 'sans-serif' not found because none of the following families were found: Microsoft YaHei\n",
      "findfont: Generic family 'sans-serif' not found because none of the following families were found: Microsoft YaHei\n",
      "findfont: Generic family 'sans-serif' not found because none of the following families were found: Microsoft YaHei\n",
      "findfont: Generic family 'sans-serif' not found because none of the following families were found: Microsoft YaHei\n",
      "findfont: Generic family 'sans-serif' not found because none of the following families were found: Microsoft YaHei\n",
      "findfont: Generic family 'sans-serif' not found because none of the following families were found: Microsoft YaHei\n",
      "findfont: Generic family 'sans-serif' not found because none of the following families were found: Microsoft YaHei\n",
      "findfont: Generic family 'sans-serif' not found because none of the following families were found: Microsoft YaHei\n",
      "findfont: Generic family 'sans-serif' not found because none of the following families were found: Microsoft YaHei\n",
      "findfont: Generic family 'sans-serif' not found because none of the following families were found: Microsoft YaHei\n",
      "findfont: Generic family 'sans-serif' not found because none of the following families were found: Microsoft YaHei\n",
      "findfont: Generic family 'sans-serif' not found because none of the following families were found: Microsoft YaHei\n",
      "findfont: Generic family 'sans-serif' not found because none of the following families were found: Microsoft YaHei\n",
      "findfont: Generic family 'sans-serif' not found because none of the following families were found: Microsoft YaHei\n",
      "findfont: Generic family 'sans-serif' not found because none of the following families were found: Microsoft YaHei\n",
      "findfont: Generic family 'sans-serif' not found because none of the following families were found: Microsoft YaHei\n",
      "findfont: Generic family 'sans-serif' not found because none of the following families were found: Microsoft YaHei\n",
      "findfont: Generic family 'sans-serif' not found because none of the following families were found: Microsoft YaHei\n",
      "findfont: Generic family 'sans-serif' not found because none of the following families were found: Microsoft YaHei\n",
      "findfont: Generic family 'sans-serif' not found because none of the following families were found: Microsoft YaHei\n",
      "findfont: Generic family 'sans-serif' not found because none of the following families were found: Microsoft YaHei\n",
      "findfont: Generic family 'sans-serif' not found because none of the following families were found: Microsoft YaHei\n",
      "findfont: Generic family 'sans-serif' not found because none of the following families were found: Microsoft YaHei\n",
      "findfont: Generic family 'sans-serif' not found because none of the following families were found: Microsoft YaHei\n",
      "findfont: Generic family 'sans-serif' not found because none of the following families were found: Microsoft YaHei\n",
      "findfont: Generic family 'sans-serif' not found because none of the following families were found: Microsoft YaHei\n",
      "findfont: Generic family 'sans-serif' not found because none of the following families were found: Microsoft YaHei\n",
      "findfont: Generic family 'sans-serif' not found because none of the following families were found: Microsoft YaHei\n",
      "findfont: Generic family 'sans-serif' not found because none of the following families were found: Microsoft YaHei\n",
      "findfont: Generic family 'sans-serif' not found because none of the following families were found: Microsoft YaHei\n",
      "findfont: Generic family 'sans-serif' not found because none of the following families were found: Microsoft YaHei\n",
      "findfont: Generic family 'sans-serif' not found because none of the following families were found: Microsoft YaHei\n",
      "findfont: Generic family 'sans-serif' not found because none of the following families were found: Microsoft YaHei\n",
      "findfont: Generic family 'sans-serif' not found because none of the following families were found: Microsoft YaHei\n",
      "findfont: Generic family 'sans-serif' not found because none of the following families were found: Microsoft YaHei\n",
      "findfont: Generic family 'sans-serif' not found because none of the following families were found: Microsoft YaHei\n",
      "findfont: Generic family 'sans-serif' not found because none of the following families were found: Microsoft YaHei\n",
      "findfont: Generic family 'sans-serif' not found because none of the following families were found: Microsoft YaHei\n",
      "findfont: Generic family 'sans-serif' not found because none of the following families were found: Microsoft YaHei\n",
      "findfont: Generic family 'sans-serif' not found because none of the following families were found: Microsoft YaHei\n",
      "findfont: Generic family 'sans-serif' not found because none of the following families were found: Microsoft YaHei\n",
      "findfont: Generic family 'sans-serif' not found because none of the following families were found: Microsoft YaHei\n",
      "findfont: Generic family 'sans-serif' not found because none of the following families were found: Microsoft YaHei\n",
      "findfont: Generic family 'sans-serif' not found because none of the following families were found: Microsoft YaHei\n",
      "findfont: Generic family 'sans-serif' not found because none of the following families were found: Microsoft YaHei\n",
      "findfont: Generic family 'sans-serif' not found because none of the following families were found: Microsoft YaHei\n",
      "findfont: Generic family 'sans-serif' not found because none of the following families were found: Microsoft YaHei\n",
      "findfont: Generic family 'sans-serif' not found because none of the following families were found: Microsoft YaHei\n",
      "findfont: Generic family 'sans-serif' not found because none of the following families were found: Microsoft YaHei\n",
      "findfont: Generic family 'sans-serif' not found because none of the following families were found: Microsoft YaHei\n",
      "findfont: Generic family 'sans-serif' not found because none of the following families were found: Microsoft YaHei\n",
      "findfont: Generic family 'sans-serif' not found because none of the following families were found: Microsoft YaHei\n",
      "findfont: Generic family 'sans-serif' not found because none of the following families were found: Microsoft YaHei\n",
      "findfont: Generic family 'sans-serif' not found because none of the following families were found: Microsoft YaHei\n",
      "findfont: Generic family 'sans-serif' not found because none of the following families were found: Microsoft YaHei\n",
      "findfont: Generic family 'sans-serif' not found because none of the following families were found: Microsoft YaHei\n",
      "findfont: Generic family 'sans-serif' not found because none of the following families were found: Microsoft YaHei\n",
      "findfont: Generic family 'sans-serif' not found because none of the following families were found: Microsoft YaHei\n",
      "findfont: Generic family 'sans-serif' not found because none of the following families were found: Microsoft YaHei\n",
      "findfont: Generic family 'sans-serif' not found because none of the following families were found: Microsoft YaHei\n",
      "findfont: Generic family 'sans-serif' not found because none of the following families were found: Microsoft YaHei\n",
      "findfont: Generic family 'sans-serif' not found because none of the following families were found: Microsoft YaHei\n",
      "findfont: Generic family 'sans-serif' not found because none of the following families were found: Microsoft YaHei\n",
      "findfont: Generic family 'sans-serif' not found because none of the following families were found: Microsoft YaHei\n",
      "findfont: Generic family 'sans-serif' not found because none of the following families were found: Microsoft YaHei\n",
      "findfont: Generic family 'sans-serif' not found because none of the following families were found: Microsoft YaHei\n",
      "findfont: Generic family 'sans-serif' not found because none of the following families were found: Microsoft YaHei\n",
      "findfont: Generic family 'sans-serif' not found because none of the following families were found: Microsoft YaHei\n",
      "findfont: Generic family 'sans-serif' not found because none of the following families were found: Microsoft YaHei\n",
      "findfont: Generic family 'sans-serif' not found because none of the following families were found: Microsoft YaHei\n",
      "findfont: Generic family 'sans-serif' not found because none of the following families were found: Microsoft YaHei\n",
      "findfont: Generic family 'sans-serif' not found because none of the following families were found: Microsoft YaHei\n",
      "findfont: Generic family 'sans-serif' not found because none of the following families were found: Microsoft YaHei\n",
      "findfont: Generic family 'sans-serif' not found because none of the following families were found: Microsoft YaHei\n",
      "findfont: Generic family 'sans-serif' not found because none of the following families were found: Microsoft YaHei\n",
      "findfont: Generic family 'sans-serif' not found because none of the following families were found: Microsoft YaHei\n",
      "findfont: Generic family 'sans-serif' not found because none of the following families were found: Microsoft YaHei\n",
      "findfont: Generic family 'sans-serif' not found because none of the following families were found: Microsoft YaHei\n",
      "findfont: Generic family 'sans-serif' not found because none of the following families were found: Microsoft YaHei\n",
      "findfont: Generic family 'sans-serif' not found because none of the following families were found: Microsoft YaHei\n",
      "findfont: Generic family 'sans-serif' not found because none of the following families were found: Microsoft YaHei\n",
      "findfont: Generic family 'sans-serif' not found because none of the following families were found: Microsoft YaHei\n",
      "findfont: Generic family 'sans-serif' not found because none of the following families were found: Microsoft YaHei\n",
      "findfont: Generic family 'sans-serif' not found because none of the following families were found: Microsoft YaHei\n",
      "findfont: Generic family 'sans-serif' not found because none of the following families were found: Microsoft YaHei\n",
      "findfont: Generic family 'sans-serif' not found because none of the following families were found: Microsoft YaHei\n",
      "findfont: Generic family 'sans-serif' not found because none of the following families were found: Microsoft YaHei\n",
      "findfont: Generic family 'sans-serif' not found because none of the following families were found: Microsoft YaHei\n",
      "findfont: Generic family 'sans-serif' not found because none of the following families were found: Microsoft YaHei\n",
      "findfont: Generic family 'sans-serif' not found because none of the following families were found: Microsoft YaHei\n",
      "findfont: Generic family 'sans-serif' not found because none of the following families were found: Microsoft YaHei\n",
      "findfont: Generic family 'sans-serif' not found because none of the following families were found: Microsoft YaHei\n",
      "findfont: Generic family 'sans-serif' not found because none of the following families were found: Microsoft YaHei\n",
      "findfont: Generic family 'sans-serif' not found because none of the following families were found: Microsoft YaHei\n",
      "findfont: Generic family 'sans-serif' not found because none of the following families were found: Microsoft YaHei\n",
      "findfont: Generic family 'sans-serif' not found because none of the following families were found: Microsoft YaHei\n",
      "findfont: Generic family 'sans-serif' not found because none of the following families were found: Microsoft YaHei\n",
      "findfont: Generic family 'sans-serif' not found because none of the following families were found: Microsoft YaHei\n",
      "findfont: Generic family 'sans-serif' not found because none of the following families were found: Microsoft YaHei\n",
      "findfont: Generic family 'sans-serif' not found because none of the following families were found: Microsoft YaHei\n",
      "findfont: Generic family 'sans-serif' not found because none of the following families were found: Microsoft YaHei\n",
      "findfont: Generic family 'sans-serif' not found because none of the following families were found: Microsoft YaHei\n",
      "findfont: Generic family 'sans-serif' not found because none of the following families were found: Microsoft YaHei\n",
      "findfont: Generic family 'sans-serif' not found because none of the following families were found: Microsoft YaHei\n",
      "findfont: Generic family 'sans-serif' not found because none of the following families were found: Microsoft YaHei\n",
      "findfont: Generic family 'sans-serif' not found because none of the following families were found: Microsoft YaHei\n",
      "findfont: Generic family 'sans-serif' not found because none of the following families were found: Microsoft YaHei\n",
      "findfont: Generic family 'sans-serif' not found because none of the following families were found: Microsoft YaHei\n",
      "findfont: Generic family 'sans-serif' not found because none of the following families were found: Microsoft YaHei\n",
      "findfont: Generic family 'sans-serif' not found because none of the following families were found: Microsoft YaHei\n",
      "findfont: Generic family 'sans-serif' not found because none of the following families were found: Microsoft YaHei\n",
      "findfont: Generic family 'sans-serif' not found because none of the following families were found: Microsoft YaHei\n",
      "findfont: Generic family 'sans-serif' not found because none of the following families were found: Microsoft YaHei\n",
      "findfont: Generic family 'sans-serif' not found because none of the following families were found: Microsoft YaHei\n",
      "findfont: Generic family 'sans-serif' not found because none of the following families were found: Microsoft YaHei\n",
      "findfont: Generic family 'sans-serif' not found because none of the following families were found: Microsoft YaHei\n",
      "findfont: Generic family 'sans-serif' not found because none of the following families were found: Microsoft YaHei\n",
      "findfont: Generic family 'sans-serif' not found because none of the following families were found: Microsoft YaHei\n",
      "findfont: Generic family 'sans-serif' not found because none of the following families were found: Microsoft YaHei\n",
      "findfont: Generic family 'sans-serif' not found because none of the following families were found: Microsoft YaHei\n",
      "findfont: Generic family 'sans-serif' not found because none of the following families were found: Microsoft YaHei\n",
      "findfont: Generic family 'sans-serif' not found because none of the following families were found: Microsoft YaHei\n",
      "findfont: Generic family 'sans-serif' not found because none of the following families were found: Microsoft YaHei\n"
     ]
    },
    {
     "data": {
      "text/plain": "<Figure size 1000x800 with 2 Axes>",
      "image/png": "[encoded data removed]"
     },
     "metadata": {},
     "output_type": "display_data"
    }
   ],
   "source": [
    "import numpy as np\n",
    "import seaborn as sns\n",
    "import matplotlib.pyplot as plt\n",
    "from sklearn.metrics.pairwise import cosine_similarity\n",
    "\n",
    "vec1 = word2vec_model['中国']\n",
    "vec2 = word2vec_model['法国']\n",
    "vec3 = word2vec_model['巴黎']\n",
    "vec4 = word2vec_model['里昂']\n",
    "vec5 = word2vec_model['北京']\n",
    "vec6 = word2vec_model['杭州']\n",
    "vectors = np.array([vec1, vec2, vec3, vec4, vec5, vec6])\n",
    "# 计算余弦相似度矩阵\n",
    "cos_sim_matrix = cosine_similarity(vectors, vectors)\n",
    "bar = ['China', 'France', 'Paris', 'Laion', 'Beijing', 'Hangzhou']\n",
    "# 将余弦相似度矩阵可视化为热力图\n",
    "plt.figure(figsize=(10, 8))\n",
    "sns.heatmap(cos_sim_matrix, annot=True, cmap='coolwarm', xticklabels=bar, yticklabels=bar)\n",
    "plt.title('Cosine Similarity Heatmap')\n",
    "plt.xlabel('Vectors')\n",
    "plt.ylabel('Vectors')\n",
    "plt.savefig('cos')"
   ],
   "metadata": {
    "collapsed": false,
    "ExecuteTime": {
     "end_time": "2024-03-18T06:09:02.590213800Z",
     "start_time": "2024-03-18T06:09:01.672909400Z"
    }
   }
  },
  {
   "cell_type": "markdown",
   "source": [
    "### ~~9. 词向量文件回传obs~~"
   ],
   "metadata": {}
  },
  {
   "cell_type": "code",
   "source": [],
   "metadata": {},
   "execution_count": null,
   "outputs": []
  }
 ]
}
