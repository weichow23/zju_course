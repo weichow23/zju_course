{
 "cells": [
  {
   "cell_type": "markdown",
   "id": "12402be5",
   "metadata": {},
   "source": [
    "# Load Cora Dataset "
   ]
  },
  {
   "cell_type": "code",
   "execution_count": null,
   "id": "2998ce7f",
   "metadata": {},
   "outputs": [],
   "source": [
    "import torch\n",
    "import torch.nn as nn\n",
    "import torch.nn.functional as F\n",
    "device = torch.device('cpu')\n",
    "import numpy as np\n",
    "import random\n",
    "\n",
    "data = torch.load('data.pth')\n",
    "g = data['g'].to(device)\n",
    "feat = data['feat'].to(device)\n",
    "label = data['label'].to(device)\n",
    "train_nodes = data['train_nodes']\n",
    "val_nodes = data['val_nodes']\n",
    "test_nodes = data['test_nodes']\n",
    "# 随机种子生成模块\n",
    "def setup_seed(seed):\n",
    "    torch.manual_seed(seed)\n",
    "    torch.cuda.manual_seed_all(seed)\n",
    "    np.random.seed(seed)\n",
    "    random.seed(seed)\n",
    "    torch.backends.cudnn.deterministic = True\n",
    "setup_seed(20)"
   ]
  },
  {
   "cell_type": "markdown",
   "id": "91df9d22",
   "metadata": {},
   "source": [
    "# Define GCN"
   ]
  },
  {
   "cell_type": "code",
   "execution_count": null,
   "id": "3eb9624a",
   "metadata": {},
   "outputs": [],
   "source": [
    "from dgl.nn import GraphConv\n",
    "\n",
    "class GCN(nn.Module):\n",
    "    \"\"\"Graph Convolution Network (GCN)\n",
    "\n",
    "    Example\n",
    "    -------\n",
    "    # GCN with one hidden layer\n",
    "    >>> model = GCN(100, 10, hid=32)\n",
    "    \"\"\"\n",
    "    def __init__(self,\n",
    "                 in_feats: int,\n",
    "                 out_feats: int,\n",
    "                 hid: list = 16,\n",
    "                 dropout: float = 0.5):\n",
    "        super().__init__()\n",
    "        self.conv1 = GraphConv(in_feats, hid)\n",
    "        self.conv2 = GraphConv(hid, out_feats)\n",
    "        self.dropout = nn.Dropout(dropout)\n",
    "\n",
    "    def forward(self, g, feat):\n",
    "\n",
    "        if torch.is_tensor(g):\n",
    "            feat = self.dropout(feat)\n",
    "            feat = g @ (feat @ self.conv1.weight) + self.conv1.bias\n",
    "            feat = F.relu(feat)\n",
    "            feat = self.dropout(feat)\n",
    "            feat = g @ (feat @ self.conv2.weight) + self.conv2.bias\n",
    "            return feat\n",
    "        \n",
    "        g = g.add_self_loop()\n",
    "        feat = self.dropout(feat)\n",
    "        feat = self.conv1(g, feat)\n",
    "        feat = F.relu(feat)\n",
    "        feat = self.dropout(feat)\n",
    "        feat = self.conv2(g, feat)\n",
    "        return feat\n"
   ]
  },
  {
   "cell_type": "markdown",
   "id": "7634a99c",
   "metadata": {},
   "source": [
    "# Train"
   ]
  },
  {
   "cell_type": "code",
   "execution_count": null,
   "id": "d9932b83",
   "metadata": {},
   "outputs": [],
   "source": [
    "# 训练\n",
    "def train():\n",
    "    model.train()\n",
    "    optimizer.zero_grad() # 清空梯度，防止梯度累加\n",
    "    loss_fn(model(g, feat)[train_nodes], label[train_nodes]).backward()\n",
    "    optimizer.step()\n",
    "# 测试\n",
    "@torch.no_grad()\n",
    "def test():\n",
    "    model.eval()\n",
    "    logits, accs = model(g, feat), []\n",
    "    for nodes in (train_nodes, val_nodes, test_nodes):\n",
    "        pred = logits[nodes].max(1)[1]\n",
    "        acc = pred.eq(label[nodes]).float().mean()\n",
    "        accs.append(acc)\n",
    "    return accs\n",
    "\n",
    "\n",
    "num_feats = feat.size(1)\n",
    "num_classes = int(label.max() + 1)\n",
    "model = GCN(num_feats, num_classes).to(device)\n",
    "\n",
    "optimizer = torch.optim.Adam([\n",
    "    dict(params=model.conv1.parameters(), weight_decay=5e-4),\n",
    "    dict(params=model.conv2.parameters(), weight_decay=0)\n",
    "], lr=0.01)  # Only perform weight-decay on first convolution.\n",
    "\n",
    "loss_fn = nn.CrossEntropyLoss()\n",
    "\n",
    "best_val_acc = test_acc = 0\n",
    "for epoch in range(1, 101):\n",
    "    train()\n",
    "    train_acc, val_acc, tmp_test_acc = test()\n",
    "    if val_acc > best_val_acc:\n",
    "        best_val_acc = val_acc\n",
    "        test_acc = tmp_test_acc\n",
    "    print(f'Epoch: {epoch:03d}, Train: {train_acc:.4f}, '\n",
    "          f'Val: {best_val_acc:.4f}, Test: {test_acc:.4f}')"
   ]
  },
  {
   "cell_type": "markdown",
   "id": "cf4056d2",
   "metadata": {},
   "source": [
    "# Evaluate"
   ]
  },
  {
   "cell_type": "code",
   "execution_count": null,
   "id": "2c1da1ea",
   "metadata": {},
   "outputs": [],
   "source": [
    "target = 1 # 确定攻击目标\n",
    "target_label = label[target]\n",
    "print(\"target label: \", target_label)\n",
    "\n",
    "print(\"model predict: \", model(g, feat)[target].argmax())"
   ]
  },
  {
   "cell_type": "code",
   "execution_count": null,
   "id": "6e81ed09",
   "metadata": {},
   "outputs": [],
   "source": [
    "# save vitim model\n",
    "torch.save(model.state_dict(), 'model.pth')"
   ]
  }
 ],
 "metadata": {
  "kernelspec": {
   "display_name": "Python 3",
   "language": "python",
   "name": "python3"
  },
  "language_info": {
   "codemirror_mode": {
    "name": "ipython",
    "version": 3
   },
   "file_extension": ".py",
   "mimetype": "text/x-python",
   "name": "python",
   "nbconvert_exporter": "python",
   "pygments_lexer": "ipython3",
   "version": "3.9.10"
  }
 },
 "nbformat": 4,
 "nbformat_minor": 5
}
