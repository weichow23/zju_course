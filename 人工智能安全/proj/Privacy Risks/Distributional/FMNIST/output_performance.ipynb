{
 "cells": [
  {
   "cell_type": "code",
   "execution_count": 1,
   "metadata": {},
   "outputs": [
    {
     "name": "stderr",
     "output_type": "stream",
     "text": [
      "/home/liweis/.conda/envs/tf12_py3/lib/python3.6/site-packages/h5py/__init__.py:36: FutureWarning: Conversion of the second argument of issubdtype from `float` to `np.floating` is deprecated. In future, it will be treated as `np.float64 == np.dtype(float).type`.\n",
      "  from ._conv import register_converters as _register_converters\n"
     ]
    }
   ],
   "source": [
    "import os\n",
    "import tensorflow as tf\n",
    "import numpy as np\n",
    "import math\n",
    "import sys\n",
    "sys.path.append('../')\n",
    "from output_utils import *\n",
    "(train_data, train_label), (test_data, test_label) = tf.keras.datasets.fashion_mnist.load_data()\n",
    "train_label = train_label.flatten()\n",
    "test_label = test_label.flatten()\n",
    "train_data = train_data.astype('float32')/255\n",
    "test_data = test_data.astype('float32')/255\n",
    "\n",
    "os.environ['CUDA_DEVICE_ORDER']=\"PCI_BUS_ID\"\n",
    "os.environ['CUDA_VISIBLE_DEVICES']='5' \n",
    "sess= tf.InteractiveSession()"
   ]
  },
  {
   "cell_type": "code",
   "execution_count": 2,
   "metadata": {},
   "outputs": [
    {
     "name": "stdout",
     "output_type": "stream",
     "text": [
      "WARNING:tensorflow:From /data/scsi/home/liweis/Adv_ML/Github_repos/privacy-vs-robustness/distributional adversarial training/FMNIST/model.py:26: UniformUnitScaling.__init__ (from tensorflow.python.ops.init_ops) is deprecated and will be removed in a future version.\n",
      "Instructions for updating:\n",
      "Use tf.initializers.variance_scaling instead with distribution=uniform to get equivalent behavior.\n"
     ]
    }
   ],
   "source": [
    "\n",
    "from model import Model\n",
    "model = Model(width_num=16)\n",
    "saver = tf.train.Saver()\n",
    "\n"
   ]
  },
  {
   "cell_type": "code",
   "execution_count": 3,
   "metadata": {},
   "outputs": [
    {
     "name": "stdout",
     "output_type": "stream",
     "text": [
      "INFO:tensorflow:Restoring parameters from model_robust/checkpoint\n",
      "Benign accuracy:  (0.9798333333333333, 0.9062)  Adversarial accuracy:  (0.6762666666666667, 0.5161)\n"
     ]
    }
   ],
   "source": [
    "num_step = 20\n",
    "max_perturb = 0.1\n",
    "batch_size = 1000\n",
    "step_size = 2.5*max_perturb/num_step\n",
    "results_dir = './output_results'\n",
    "if not os.path.exists(results_dir):\n",
    "    os.makedirs(results_dir)\n",
    "\n",
    "saver.restore(sess,os.path.join('model_robust','checkpoint'))\n",
    "output_train_benign, output_train_adversarial, output_test_benign, output_test_adversarial = \\\n",
    "classifier_performance(sess, model, train_data, train_label, test_data, test_label, batch_size, \n",
    "                       num_step, max_perturb, step_size)\n",
    "\n",
    "np.savez(os.path.join(results_dir, 'model_robust.npz'), \n",
    "         output_train_benign = output_train_benign, output_test_benign = output_test_benign,\n",
    "         output_train_adversarial = output_train_adversarial, output_test_adversarial = output_test_adversarial,\n",
    "         train_label = train_label, test_label = test_label)"
   ]
  }
 ],
 "metadata": {
  "kernelspec": {
   "display_name": "Python 3",
   "language": "python",
   "name": "python3"
  },
  "language_info": {
   "codemirror_mode": {
    "name": "ipython",
    "version": 3
   },
   "file_extension": ".py",
   "mimetype": "text/x-python",
   "name": "python",
   "nbconvert_exporter": "python",
   "pygments_lexer": "ipython3",
   "version": "3.6.5"
  }
 },
 "nbformat": 4,
 "nbformat_minor": 2
}
