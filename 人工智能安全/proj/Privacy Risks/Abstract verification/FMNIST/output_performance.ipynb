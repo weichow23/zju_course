{
 "cells": [
  {
   "cell_type": "code",
   "execution_count": 1,
   "metadata": {
    "collapsed": true
   },
   "outputs": [],
   "source": [
    "import os \n",
    "import torch\n",
    "import torchvision\n",
    "import torch.nn\n",
    "from torch.autograd import Variable\n",
    "from torch.autograd.gradcheck import zero_gradients\n",
    "from torch.autograd import Variable\n",
    "from torchvision import datasets, transforms\n",
    "import numpy as np\n",
    "import matplotlib.pyplot as plt\n",
    "import math\n",
    "import sys\n",
    "sys.path.append('../')\n",
    "from output_utils import *\n",
    "\n",
    "os.environ['CUDA_DEVICE_ORDER']=\"PCI_BUS_ID\"\n",
    "os.environ['CUDA_VISIBLE_DEVICES']='5' "
   ]
  },
  {
   "cell_type": "code",
   "execution_count": 2,
   "metadata": {},
   "outputs": [
    {
     "name": "stdout",
     "output_type": "stream",
     "text": [
      "using cuda\n",
      "set up cuda\n",
      "Benign accuracy:  (0.86439999999999995, 0.85470000000000002)  Adversarial accuracy:  (0.74114999999999998, 0.73280000000000001)\n"
     ]
    }
   ],
   "source": [
    "train_loader = torch.utils.data.DataLoader(\n",
    "    datasets.FashionMNIST(root='../../datasets/fmnist', train=True, download=True,transform=transforms.ToTensor()),\n",
    "    batch_size=500, shuffle=False)\n",
    "\n",
    "test_loader = torch.utils.data.DataLoader(\n",
    "    datasets.FashionMNIST(root='../../datasets/fmnist', train=False,download=True,transform=transforms.ToTensor()),\n",
    "    batch_size=500, shuffle=False)\n",
    "\n",
    "\n",
    "num_step = 20\n",
    "max_perturb = 0.1\n",
    "step_size = max_perturb*2.5/num_step\n",
    "\n",
    "\n",
    "model = torch.load('./model_robust.net')\n",
    "model.cuda();\n",
    "model.eval();\n",
    "output_train_benign, output_train_adversarial, output_test_benign, output_test_adversarial, train_label, test_label =\\\n",
    "classifier_performance(model, train_loader, test_loader, num_step, max_perturb, step_size, clip_min=0, clip_max=1.0)\n",
    "\n",
    "results_dir = './output_results'\n",
    "if not os.path.exists(results_dir):\n",
    "    os.makedirs(results_dir)\n",
    "np.savez(os.path.join(results_dir, 'model_robust.npz'), \n",
    "         output_train_benign = output_train_benign, output_test_benign = output_test_benign,\n",
    "         output_train_adversarial = output_train_adversarial, output_test_adversarial = output_test_adversarial,\n",
    "         train_label = train_label, test_label = test_label)"
   ]
  }
 ],
 "metadata": {
  "kernelspec": {
   "display_name": "Python 3",
   "language": "python",
   "name": "python3"
  },
  "language_info": {
   "codemirror_mode": {
    "name": "ipython",
    "version": 3
   },
   "file_extension": ".py",
   "mimetype": "text/x-python",
   "name": "python",
   "nbconvert_exporter": "python",
   "pygments_lexer": "ipython3",
   "version": "3.6.5"
  }
 },
 "nbformat": 4,
 "nbformat_minor": 2
}
