{
 "cells": [
  {
   "cell_type": "code",
   "execution_count": 1,
   "metadata": {
    "collapsed": true
   },
   "outputs": [],
   "source": [
    "import os \n",
    "import torch\n",
    "import torchvision\n",
    "import torch.nn\n",
    "from torch.autograd import Variable\n",
    "from torch.autograd.gradcheck import zero_gradients\n",
    "from torch.autograd import Variable\n",
    "from torchvision import datasets, transforms\n",
    "import numpy as np\n",
    "import matplotlib.pyplot as plt\n",
    "import math\n",
    "import sys\n",
    "sys.path.append('../../')\n",
    "from utils import *\n",
    "import sys\n",
    "sys.path.append('../')\n",
    "from output_utils import *\n",
    "\n",
    "os.environ['CUDA_DEVICE_ORDER']=\"PCI_BUS_ID\"\n",
    "os.environ['CUDA_VISIBLE_DEVICES']='5' "
   ]
  },
  {
   "cell_type": "code",
   "execution_count": 2,
   "metadata": {
    "collapsed": true
   },
   "outputs": [],
   "source": [
    "def YALEBXF_loader(batch_size=20, test_batch_size=2):\n",
    "    train_data, train_label, test_data, test_label = YALE_split('../../datasets/yale/YALEBXF.mat') \n",
    "    train_data = train_data.transpose((0, 3, 1, 2) )\n",
    "    test_data = test_data.transpose((0, 3, 1, 2) )\n",
    "    tensor_x = torch.stack([torch.FloatTensor(i) for i in train_data]) # transform to torch tensors\n",
    "    tensor_y = torch.stack([torch.LongTensor([i]) for i in train_label])[:,0]\n",
    "    train_dataset = torch.utils.data.TensorDataset(tensor_x,tensor_y)\n",
    "    \n",
    "    tensor_x = torch.stack([torch.FloatTensor(i) for i in test_data]) # transform to torch tensors\n",
    "    tensor_y = torch.stack([torch.LongTensor([i]) for i in test_label])[:,0]\n",
    "    test_dataset = torch.utils.data.TensorDataset(tensor_x,tensor_y)\n",
    "    \n",
    "    train_loader = torch.utils.data.DataLoader(train_dataset, batch_size=batch_size,\n",
    "        shuffle=True, pin_memory=True)\n",
    "    \n",
    "    test_loader = torch.utils.data.DataLoader(test_dataset, batch_size=test_batch_size,\n",
    "        shuffle=False, pin_memory=True)\n",
    "    return train_loader, test_loader"
   ]
  },
  {
   "cell_type": "code",
   "execution_count": 3,
   "metadata": {},
   "outputs": [
    {
     "name": "stdout",
     "output_type": "stream",
     "text": [
      "using cuda\n",
      "set up cuda\n",
      "Benign accuracy:  (0.99263157894736842, 0.83268482490272377)  Adversarial accuracy:  (0.85684210526315785, 0.50389105058365757)\n"
     ]
    }
   ],
   "source": [
    "train_loader, test_loader = YALEBXF_loader(100, 100)\n",
    "num_step = 20\n",
    "max_perturb = 0.0314\n",
    "step_size = max_perturb*2.5/num_step\n",
    "\n",
    "model = torch.load('./model_robust.net')\n",
    "model.cuda();\n",
    "model.eval();\n",
    "output_train_benign, output_train_adversarial, output_test_benign, output_test_adversarial, train_label, test_label =\\\n",
    "classifier_performance(model, train_loader, test_loader, num_step, max_perturb, step_size, clip_min=0, clip_max=1.0)\n",
    "\n",
    "results_dir = './output_results'\n",
    "if not os.path.exists(results_dir):\n",
    "    os.makedirs(results_dir)\n",
    "np.savez(os.path.join(results_dir, 'model_robust.npz'), \n",
    "         output_train_benign = output_train_benign, output_test_benign = output_test_benign,\n",
    "         output_train_adversarial = output_train_adversarial, output_test_adversarial = output_test_adversarial,\n",
    "         train_label = train_label, test_label = test_label)"
   ]
  }
 ],
 "metadata": {
  "kernelspec": {
   "display_name": "Python 3",
   "language": "python",
   "name": "python3"
  },
  "language_info": {
   "codemirror_mode": {
    "name": "ipython",
    "version": 3
   },
   "file_extension": ".py",
   "mimetype": "text/x-python",
   "name": "python",
   "nbconvert_exporter": "python",
   "pygments_lexer": "ipython3",
   "version": "3.6.1"
  }
 },
 "nbformat": 4,
 "nbformat_minor": 2
}
