{
 "cells": [
  {
   "cell_type": "code",
   "execution_count": 1,
   "metadata": {},
   "outputs": [
    {
     "name": "stderr",
     "output_type": "stream",
     "text": [
      "/home/liweis/.conda/envs/tf12_py3/lib/python3.6/site-packages/h5py/__init__.py:36: FutureWarning: Conversion of the second argument of issubdtype from `float` to `np.floating` is deprecated. In future, it will be treated as `np.float64 == np.dtype(float).type`.\n",
      "  from ._conv import register_converters as _register_converters\n",
      "/home/liweis/.conda/envs/tf12_py3/lib/python3.6/site-packages/tensorflow/python/util/tf_inspect.py:75: DeprecationWarning: inspect.getargspec() is deprecated, use inspect.signature() or inspect.getfullargspec()\n",
      "  return _inspect.getargspec(target)\n",
      "/home/liweis/.conda/envs/tf12_py3/lib/python3.6/importlib/_bootstrap.py:219: RuntimeWarning: numpy.dtype size changed, may indicate binary incompatibility. Expected 96, got 88\n",
      "  return f(*args, **kwds)\n",
      "/home/liweis/.conda/envs/tf12_py3/lib/python3.6/importlib/_bootstrap.py:219: RuntimeWarning: numpy.dtype size changed, may indicate binary incompatibility. Expected 96, got 88\n",
      "  return f(*args, **kwds)\n"
     ]
    }
   ],
   "source": [
    "import os\n",
    "import tensorflow as tf\n",
    "import numpy as np\n",
    "import math\n",
    "import interval_bound_propagation as ibp\n",
    "import sys\n",
    "sys.path.append('../')\n",
    "from output_utils import *\n",
    "sys.path.append('../../')\n",
    "from utils import *\n",
    "train_data, train_label, test_data, test_label = YALE_split('../../datasets/yale/YALEBXF.mat')\n",
    "\n",
    "os.environ['CUDA_DEVICE_ORDER']=\"PCI_BUS_ID\"\n",
    "os.environ['CUDA_VISIBLE_DEVICES']='6' \n",
    "sess= tf.InteractiveSession()"
   ]
  },
  {
   "cell_type": "code",
   "execution_count": 2,
   "metadata": {},
   "outputs": [],
   "source": [
    "def Yale_model(width_num=1):\n",
    "    return (\n",
    "            ('conv2d', (3, 3), 4*width_num, 'SAME', 1),\n",
    "            ('activation', 'relu'),\n",
    "            ('conv2d', (3, 3), 4*width_num, 'SAME', 2),\n",
    "            ('activation', 'relu'),\n",
    "            ('conv2d', (3, 3), 8*width_num, 'SAME', 1),\n",
    "            ('activation', 'relu'),\n",
    "            ('conv2d', (3, 3), 8*width_num, 'SAME', 2),\n",
    "            ('activation', 'relu'),\n",
    "            ('conv2d', (3, 3), 16*width_num, 'SAME', 1),\n",
    "            ('activation', 'relu'),\n",
    "            ('conv2d', (3, 3), 16*width_num, 'SAME', 2),\n",
    "            ('activation', 'relu'),\n",
    "            ('conv2d', (3, 3), 32*width_num, 'SAME', 1),\n",
    "            ('activation', 'relu'),\n",
    "            ('conv2d', (3, 3), 32*width_num, 'SAME', 2),\n",
    "            ('activation', 'relu'),\n",
    "            ('linear', 200),\n",
    "            ('activation', 'relu'))"
   ]
  },
  {
   "cell_type": "code",
   "execution_count": 3,
   "metadata": {},
   "outputs": [
    {
     "name": "stderr",
     "output_type": "stream",
     "text": [
      "/home/liweis/.conda/envs/tf12_py3/lib/python3.6/site-packages/tensorflow/python/util/tf_inspect.py:75: DeprecationWarning: inspect.getargspec() is deprecated, use inspect.signature() or inspect.getfullargspec()\n",
      "  return _inspect.getargspec(target)\n",
      "/data/scsi/home/liweis/Adv_ML/Github_repos/privacy-vs-robustness/interval bound propagation-based verification/Yale/interval_bound_propagation/src/model.py:146: DeprecationWarning: The 'warn' function is deprecated, use 'warning' instead\n",
      "  logging.warn('Unprocessed module \"%s\"', str(m))\n",
      "WARNING: Logging before flag parsing goes to stderr.\n",
      "W0717 21:12:11.576085 140537997150016 model.py:146] Unprocessed module \"<interval_bound_propagation.src.model.DNN object at 0x7fd17c4489b0>\"\n"
     ]
    }
   ],
   "source": [
    "data_train = (train_data, train_label)\n",
    "data_test = (test_data, test_label)\n",
    "data = ibp.build_dataset(data_train, batch_size=20,sequential=False)\n",
    "num_classes = len(set(test_label))\n",
    "predictor = ibp.DNN(num_classes, Yale_model(width_num=2), 0.0002)\n",
    "predictor = ibp.VerifiableModelWrapper(predictor)\n",
    "\n",
    "# Training.\n",
    "train_losses, train_loss, _ = ibp.create_classification_losses(\n",
    "  20001,\n",
    "  data.image,\n",
    "  data.label,\n",
    "  predictor,\n",
    "  0.5,\n",
    "  loss_weights={\n",
    "      'nominal': {'init': 1.0,\n",
    "                  'final': 0.5},\n",
    "      'attack': {'init': 0.0,\n",
    "                 'final': 0.5},\n",
    "      'verified': {'init': 0.0,\n",
    "                   'final': 0.0},\n",
    "  },\n",
    "  warmup_steps=500,\n",
    "  rampup_steps=6500,\n",
    "  input_bounds=(0., 1.))\n",
    "\n",
    "saver = tf.train.Saver(predictor.wrapped_network.get_variables())\n"
   ]
  },
  {
   "cell_type": "code",
   "execution_count": 4,
   "metadata": {},
   "outputs": [
    {
     "name": "stdout",
     "output_type": "stream",
     "text": [
      "INFO:tensorflow:Restoring parameters from ./model_robust/checkpoint\n"
     ]
    },
    {
     "name": "stderr",
     "output_type": "stream",
     "text": [
      "I0717 21:12:12.145470 140537997150016 tf_logging.py:115] Restoring parameters from ./model_robust/checkpoint\n"
     ]
    },
    {
     "name": "stdout",
     "output_type": "stream",
     "text": [
      "Benign accuracy:  (0.991578947368421, 0.857976653696498)  Adversarial accuracy:  (0.9442105263157895, 0.6867704280155642)\n"
     ]
    }
   ],
   "source": [
    "x_placeholder = tf.placeholder(shape=(None, 192, 168, 1), dtype=tf.float32)\n",
    "y_placeholder = tf.placeholder(shape=(None), dtype=tf.int64)\n",
    "model_logit = predictor.wrapped_network(x_placeholder)\n",
    "\n",
    "saver.restore(sess,os.path.join('./model_robust','checkpoint'))\n",
    "num_step = 20\n",
    "max_perturb = 8/255\n",
    "batch_size = 500\n",
    "step_size = 2.5*max_perturb/num_step\n",
    "\n",
    "output_train_benign, output_train_adversarial, output_test_benign, output_test_adversarial = \\\n",
    "classifier_performance(sess, model_logit, train_data, train_label, x_placeholder, y_placeholder,\n",
    "                       test_data, test_label, batch_size, num_step, max_perturb, step_size)\n",
    "\n",
    "results_dir = './output_results'\n",
    "if not os.path.exists(results_dir):\n",
    "    os.makedirs(results_dir)\n",
    "np.savez(os.path.join(results_dir, 'model_robust.npz'), \n",
    "         output_train_benign = output_train_benign, output_test_benign = output_test_benign,\n",
    "         output_train_adversarial = output_train_adversarial, output_test_adversarial = output_test_adversarial,\n",
    "         train_label = train_label, test_label = test_label)"
   ]
  }
 ],
 "metadata": {
  "kernelspec": {
   "display_name": "Python 3",
   "language": "python",
   "name": "python3"
  },
  "language_info": {
   "codemirror_mode": {
    "name": "ipython",
    "version": 3
   },
   "file_extension": ".py",
   "mimetype": "text/x-python",
   "name": "python",
   "nbconvert_exporter": "python",
   "pygments_lexer": "ipython3",
   "version": "3.6.5"
  }
 },
 "nbformat": 4,
 "nbformat_minor": 2
}
