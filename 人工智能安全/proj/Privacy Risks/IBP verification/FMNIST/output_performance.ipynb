{
 "cells": [
  {
   "cell_type": "code",
   "execution_count": 1,
   "metadata": {},
   "outputs": [
    {
     "name": "stderr",
     "output_type": "stream",
     "text": [
      "/home/liweis/.conda/envs/tf12_py3/lib/python3.6/site-packages/h5py/__init__.py:36: FutureWarning: Conversion of the second argument of issubdtype from `float` to `np.floating` is deprecated. In future, it will be treated as `np.float64 == np.dtype(float).type`.\n",
      "  from ._conv import register_converters as _register_converters\n",
      "/home/liweis/.conda/envs/tf12_py3/lib/python3.6/site-packages/tensorflow/python/util/tf_inspect.py:75: DeprecationWarning: inspect.getargspec() is deprecated, use inspect.signature() or inspect.getfullargspec()\n",
      "  return _inspect.getargspec(target)\n"
     ]
    }
   ],
   "source": [
    "import os\n",
    "import tensorflow as tf\n",
    "import numpy as np\n",
    "import math\n",
    "import interval_bound_propagation as ibp\n",
    "import sys\n",
    "sys.path.append('../')\n",
    "from output_utils import *\n",
    "\n",
    "\n",
    "os.environ['CUDA_DEVICE_ORDER']=\"PCI_BUS_ID\"\n",
    "os.environ['CUDA_VISIBLE_DEVICES']='6' \n",
    "sess= tf.InteractiveSession()"
   ]
  },
  {
   "cell_type": "code",
   "execution_count": 2,
   "metadata": {},
   "outputs": [],
   "source": [
    "def fmnist_VGG(width_num=16):\n",
    "    return (\n",
    "            ('conv2d', (3, 3), 16*width_num, 'SAME', 1),\n",
    "            ('activation', 'relu'),\n",
    "            ('conv2d', (3, 3), 16*width_num, 'SAME', 1),\n",
    "            ('activation', 'relu'),\n",
    "            ('conv2d', (3, 3), 16*width_num, 'SAME', 2),\n",
    "            ('activation', 'relu'),\n",
    "            ('conv2d', (3, 3), 32*width_num, 'SAME', 1),\n",
    "            ('activation', 'relu'),\n",
    "            ('conv2d', (3, 3), 32*width_num, 'SAME', 1),\n",
    "            ('activation', 'relu'),\n",
    "            ('conv2d', (3, 3), 32*width_num, 'SAME', 2),\n",
    "            ('activation', 'relu'),\n",
    "            ('linear', 200),\n",
    "            ('activation', 'relu'))"
   ]
  },
  {
   "cell_type": "code",
   "execution_count": 3,
   "metadata": {},
   "outputs": [
    {
     "name": "stderr",
     "output_type": "stream",
     "text": [
      "/home/liweis/.conda/envs/tf12_py3/lib/python3.6/site-packages/tensorflow/python/util/tf_inspect.py:75: DeprecationWarning: inspect.getargspec() is deprecated, use inspect.signature() or inspect.getfullargspec()\n",
      "  return _inspect.getargspec(target)\n",
      "/data/scsi/home/liweis/Adv_ML/Github_repos/privacy-vs-robustness/interval bound propagation-based verification/FMNIST/interval_bound_propagation/src/model.py:146: DeprecationWarning: The 'warn' function is deprecated, use 'warning' instead\n",
      "  logging.warn('Unprocessed module \"%s\"', str(m))\n",
      "WARNING: Logging before flag parsing goes to stderr.\n",
      "W0717 21:18:48.980773 139905081681728 model.py:146] Unprocessed module \"<interval_bound_propagation.src.model.DNN object at 0x7f3d7d6b8f28>\"\n"
     ]
    }
   ],
   "source": [
    "(train_data,train_label), (test_data, test_label) = tf.keras.datasets.fashion_mnist.load_data()\n",
    "data_train = (train_data, train_label)\n",
    "data_test = (test_data, test_label)\n",
    "data = ibp.build_dataset(data_train, batch_size=100,sequential=False)\n",
    "num_classes = len(set(test_label))\n",
    "predictor = ibp.DNN(num_classes, fmnist_VGG(16), 0.0002)\n",
    "predictor = ibp.VerifiableModelWrapper(predictor)\n",
    "\n",
    "# Training.\n",
    "train_losses, train_loss, _ = ibp.create_classification_losses(\n",
    "  80001,\n",
    "  data.image,\n",
    "  data.label,\n",
    "  predictor,\n",
    "  0.5,\n",
    "  loss_weights={\n",
    "      'nominal': {'init': 1.0,\n",
    "                  'final': 0.5},\n",
    "      'attack': {'init': 0.0,\n",
    "                 'final': 0.5},\n",
    "      'verified': {'init': 0.0,\n",
    "                   'final': 0.0},\n",
    "  },\n",
    "  warmup_steps=10000,\n",
    "  rampup_steps=20000,\n",
    "  input_bounds=(0., 1.))\n",
    "\n",
    "saver = tf.train.Saver(predictor.wrapped_network.get_variables())\n"
   ]
  },
  {
   "cell_type": "code",
   "execution_count": 7,
   "metadata": {},
   "outputs": [
    {
     "name": "stdout",
     "output_type": "stream",
     "text": [
      "INFO:tensorflow:Restoring parameters from ./model_robust/checkpoint\n"
     ]
    },
    {
     "name": "stderr",
     "output_type": "stream",
     "text": [
      "I0717 21:36:20.238146 139905081681728 tf_logging.py:115] Restoring parameters from ./model_robust/checkpoint\n"
     ]
    },
    {
     "name": "stdout",
     "output_type": "stream",
     "text": [
      "Benign accuracy:  (0.8984833333333333, 0.8626)  Adversarial accuracy:  (0.8259666666666666, 0.7844)\n"
     ]
    }
   ],
   "source": [
    "x_placeholder = tf.placeholder(shape=(None, 28, 28,1), dtype=tf.float32)\n",
    "y_placeholder = tf.placeholder(shape=(None), dtype=tf.int64)\n",
    "model_logit = predictor.wrapped_network(x_placeholder)\n",
    "(train_data,train_label), (test_data, test_label) = tf.keras.datasets.fashion_mnist.load_data()\n",
    "train_data = np.expand_dims(train_data, axis=3)/255.0\n",
    "test_data = np.expand_dims(test_data, axis=3)/255.0\n",
    "\n",
    "saver.restore(sess,os.path.join('./model_robust','checkpoint'))\n",
    "num_step = 20\n",
    "max_perturb = 0.1\n",
    "batch_size = 2000\n",
    "step_size = 2.5*max_perturb/num_step\n",
    "\n",
    "output_train_benign, output_train_adversarial, output_test_benign, output_test_adversarial = \\\n",
    "classifier_performance(sess, model_logit, train_data, train_label, x_placeholder, y_placeholder,\n",
    "                       test_data, test_label, batch_size, num_step, max_perturb, step_size)\n",
    "\n",
    "results_dir = './output_results'\n",
    "if not os.path.exists(results_dir):\n",
    "    os.makedirs(results_dir)\n",
    "np.savez(os.path.join(results_dir, 'model_robust.npz'), \n",
    "         output_train_benign = output_train_benign, output_test_benign = output_test_benign,\n",
    "         output_train_adversarial = output_train_adversarial, output_test_adversarial = output_test_adversarial,\n",
    "         train_label = train_label, test_label = test_label)"
   ]
  }
 ],
 "metadata": {
  "kernelspec": {
   "display_name": "Python 3",
   "language": "python",
   "name": "python3"
  },
  "language_info": {
   "codemirror_mode": {
    "name": "ipython",
    "version": 3
   },
   "file_extension": ".py",
   "mimetype": "text/x-python",
   "name": "python",
   "nbconvert_exporter": "python",
   "pygments_lexer": "ipython3",
   "version": "3.6.5"
  }
 },
 "nbformat": 4,
 "nbformat_minor": 2
}
